{
 "cells": [
  {
   "cell_type": "code",
   "execution_count": 1,
   "metadata": {},
   "outputs": [],
   "source": [
    "import pandas as pd\n",
    "import openpyxl\n",
    "from openpyxl.styles import Font, Alignment, Border, Side, PatternFill, Color\n",
    "from openpyxl.utils import get_column_letter\n",
    "from openpyxl.drawing.image import Image\n",
    "from openpyxl import load_workbook\n",
    "\n",
    "pd.set_option('future.no_silent_downcasting', True)\n"
   ]
  },
  {
   "cell_type": "markdown",
   "metadata": {},
   "source": [
    "#### Utilities Functions"
   ]
  },
  {
   "cell_type": "code",
   "execution_count": 2,
   "metadata": {},
   "outputs": [],
   "source": [
    "color_dict = {\n",
    "    'Y': 'FFFF00',  # Yellow\n",
    "    'G': '00FF00',  # Green\n",
    "    'L': '0000FF',  # Blue\n",
    "    'R': 'FF0000',  # Red\n",
    "    'W': 'FFFFFF',  # White\n",
    "    'LG': '808080', # Gray (Light Gray)\n",
    "    'O': 'FFA500',  # Orange\n",
    "    'BR': '80471c',#'A52A2A', # Brown\n",
    "    'V': '800080',#'8A2BE2',   # Violet\n",
    "    'GY': '707070',#'C0C0C0',  # Gray\n",
    "    'B': '000000' ,  # Black (Noir)\n",
    "    'P' : 'FFC0CB', # Pink\n",
    "    'C' : '00FFFF', # Cyan\n",
    "    'D' : 'FFFFF0', # Ivory\n",
    "    'SI' : '505050', # Silver\n",
    "}\n",
    "\n",
    "def apply_color(symbol, cell):\n",
    "    if '/' in str(symbol):\n",
    "        primary, secondary = symbol.split('/')\n",
    "        fill = PatternFill(start_color=color_dict[primary], end_color=color_dict[primary], fill_type=\"solid\")\n",
    "        cell.fill = fill\n",
    "        \n",
    "        side = Side(border_style=\"thick\", color=color_dict[secondary])\n",
    "        border = Border(diagonal=side, diagonalUp=True)\n",
    "        cell.border = border\n",
    "    elif symbol in color_dict:\n",
    "        fill = PatternFill(start_color=color_dict[symbol], end_color=color_dict[symbol], fill_type=\"solid\")\n",
    "        cell.fill = fill\n",
    "    else :\n",
    "        cell.value = symbol\n",
    "    "
   ]
  },
  {
   "cell_type": "code",
   "execution_count": 3,
   "metadata": {},
   "outputs": [],
   "source": [
    "# def validate_colors_in_dataset():\n",
    "#     unique_colors = df_input['Colour'].dropna().unique()\n",
    "    \n",
    "#     unknown_colors = {}\n",
    "#     for color in unique_colors:\n",
    "        \n",
    "#         if '/' in color:\n",
    "#             primary, secondary = color.split('/')\n",
    "#             if primary not in color_dict:\n",
    "#                 if primary in unknown_colors:\n",
    "#                     unknown_colors[primary] += df_input['Colour'].eq(color).sum()\n",
    "#                 else:\n",
    "#                     unknown_colors[primary] = df_input['Colour'].eq(color).sum()\n",
    "#             if secondary not in color_dict:\n",
    "#                 if secondary in unknown_colors:\n",
    "#                     unknown_colors[secondary] += df_input['Colour'].eq(color).sum()\n",
    "#                 else:\n",
    "#                     unknown_colors[secondary] = df_input['Colour'].eq(color).sum()\n",
    "#         else:\n",
    "#             if color not in color_dict:\n",
    "#                 if color in unknown_colors:\n",
    "#                     unknown_colors[color] += df_input['Colour'].eq(color).sum()\n",
    "#                 else:\n",
    "#                     unknown_colors[color] = df_input['Colour'].eq(color).sum()\n",
    "    \n",
    "#     if unknown_colors:\n",
    "#         print(f\"Found {len(unknown_colors)} unknown color codes:\")\n",
    "#         for color, count in unknown_colors.items():\n",
    "#             print(f\"  - '{color}': appears {count} times\")\n",
    "#         print(\"These colors will not be correctly displayed in the Excel file.\")\n",
    "#     else:\n",
    "#         print(\"All colors in the dataset are defined in color_dict.\")\n",
    "    \n",
    "#     # Display color distribution\n",
    "#     print(\"\\nColor distribution in dataset:\")\n",
    "#     color_counts = df_input['Colour'].value_counts().head(10)\n",
    "#     print(color_counts)\n",
    "    \n",
    "#     return unknown_colors"
   ]
  },
  {
   "cell_type": "code",
   "execution_count": 4,
   "metadata": {},
   "outputs": [],
   "source": [
    "input_file = r'C:\\Users\\user\\Desktop\\YMM-2\\Data\\Input\\G60 WI.xlsx'\n",
    "# output_file = r'..\\Data\\Output\\Schema G60.xlsx'"
   ]
  },
  {
   "cell_type": "code",
   "execution_count": 5,
   "metadata": {},
   "outputs": [],
   "source": [
    "df_input = pd.read_excel(input_file)"
   ]
  },
  {
   "cell_type": "code",
   "execution_count": 6,
   "metadata": {},
   "outputs": [
    {
     "data": {
      "text/plain": [
       "Colour\n",
       "BR     1243\n",
       "G       564\n",
       "R       462\n",
       "W       424\n",
       "G/L     415\n",
       "       ... \n",
       "TA        2\n",
       "0.5       1\n",
       "10        1\n",
       "0,5       1\n",
       "211       1\n",
       "Name: count, Length: 97, dtype: int64"
      ]
     },
     "execution_count": 6,
     "metadata": {},
     "output_type": "execute_result"
    }
   ],
   "source": [
    "df_input['Colour'].value_counts()"
   ]
  },
  {
   "cell_type": "code",
   "execution_count": 7,
   "metadata": {},
   "outputs": [],
   "source": [
    "all_sheets = list(df_input['SPS'].unique())"
   ]
  },
  {
   "cell_type": "code",
   "execution_count": 8,
   "metadata": {},
   "outputs": [],
   "source": [
    "PM_sps = list(df_input['Production Module MA15'].unique())"
   ]
  },
  {
   "cell_type": "markdown",
   "metadata": {},
   "source": [
    "#### Create a new workbook"
   ]
  },
  {
   "cell_type": "code",
   "execution_count": 9,
   "metadata": {},
   "outputs": [],
   "source": [
    "path_output_excel = 'Final_02_04.xlsx'\n",
    "# wb = openpyxl.Workbook()\n",
    "# ws = wb.active"
   ]
  },
  {
   "cell_type": "markdown",
   "metadata": {},
   "source": [
    "#### Yazaki header template"
   ]
  },
  {
   "cell_type": "code",
   "execution_count": 10,
   "metadata": {},
   "outputs": [
    {
     "ename": "FileNotFoundError",
     "evalue": "[Errno 2] No such file or directory: 'C:\\\\Users\\\\user\\\\Desktop\\\\Output ymm2\\\\new.xlsx'",
     "output_type": "error",
     "traceback": [
      "\u001b[1;31m---------------------------------------------------------------------------\u001b[0m",
      "\u001b[1;31mFileNotFoundError\u001b[0m                         Traceback (most recent call last)",
      "Cell \u001b[1;32mIn[10], line 88\u001b[0m\n\u001b[0;32m     85\u001b[0m     \u001b[38;5;28;01mreturn\u001b[39;00m ws\n\u001b[0;32m     87\u001b[0m path \u001b[38;5;241m=\u001b[39m \u001b[38;5;124mr\u001b[39m\u001b[38;5;124m\"\u001b[39m\u001b[38;5;124mC:\u001b[39m\u001b[38;5;124m\\\u001b[39m\u001b[38;5;124mUsers\u001b[39m\u001b[38;5;124m\\\u001b[39m\u001b[38;5;124muser\u001b[39m\u001b[38;5;124m\\\u001b[39m\u001b[38;5;124mDesktop\u001b[39m\u001b[38;5;124m\\\u001b[39m\u001b[38;5;124mOutput ymm2\u001b[39m\u001b[38;5;124m\\\u001b[39m\u001b[38;5;124mnew.xlsx\u001b[39m\u001b[38;5;124m\"\u001b[39m\n\u001b[1;32m---> 88\u001b[0m wb \u001b[38;5;241m=\u001b[39m \u001b[43mload_workbook\u001b[49m\u001b[43m(\u001b[49m\u001b[43mpath\u001b[49m\u001b[43m)\u001b[49m\n\u001b[0;32m     89\u001b[0m \u001b[38;5;66;03m# ws = wb.active \u001b[39;00m\n\u001b[0;32m     91\u001b[0m \u001b[38;5;28;01mfor\u001b[39;00m ws \u001b[38;5;129;01min\u001b[39;00m wb\u001b[38;5;241m.\u001b[39mworksheets:\n",
      "File \u001b[1;32mc:\\Users\\user\\anaconda3\\envs\\rpa_env\\Lib\\site-packages\\openpyxl\\reader\\excel.py:346\u001b[0m, in \u001b[0;36mload_workbook\u001b[1;34m(filename, read_only, keep_vba, data_only, keep_links, rich_text)\u001b[0m\n\u001b[0;32m    316\u001b[0m \u001b[38;5;28;01mdef\u001b[39;00m\u001b[38;5;250m \u001b[39m\u001b[38;5;21mload_workbook\u001b[39m(filename, read_only\u001b[38;5;241m=\u001b[39m\u001b[38;5;28;01mFalse\u001b[39;00m, keep_vba\u001b[38;5;241m=\u001b[39mKEEP_VBA,\n\u001b[0;32m    317\u001b[0m                   data_only\u001b[38;5;241m=\u001b[39m\u001b[38;5;28;01mFalse\u001b[39;00m, keep_links\u001b[38;5;241m=\u001b[39m\u001b[38;5;28;01mTrue\u001b[39;00m, rich_text\u001b[38;5;241m=\u001b[39m\u001b[38;5;28;01mFalse\u001b[39;00m):\n\u001b[0;32m    318\u001b[0m \u001b[38;5;250m    \u001b[39m\u001b[38;5;124;03m\"\"\"Open the given filename and return the workbook\u001b[39;00m\n\u001b[0;32m    319\u001b[0m \n\u001b[0;32m    320\u001b[0m \u001b[38;5;124;03m    :param filename: the path to open or a file-like object\u001b[39;00m\n\u001b[1;32m   (...)\u001b[0m\n\u001b[0;32m    344\u001b[0m \n\u001b[0;32m    345\u001b[0m \u001b[38;5;124;03m    \"\"\"\u001b[39;00m\n\u001b[1;32m--> 346\u001b[0m     reader \u001b[38;5;241m=\u001b[39m \u001b[43mExcelReader\u001b[49m\u001b[43m(\u001b[49m\u001b[43mfilename\u001b[49m\u001b[43m,\u001b[49m\u001b[43m \u001b[49m\u001b[43mread_only\u001b[49m\u001b[43m,\u001b[49m\u001b[43m \u001b[49m\u001b[43mkeep_vba\u001b[49m\u001b[43m,\u001b[49m\n\u001b[0;32m    347\u001b[0m \u001b[43m                         \u001b[49m\u001b[43mdata_only\u001b[49m\u001b[43m,\u001b[49m\u001b[43m \u001b[49m\u001b[43mkeep_links\u001b[49m\u001b[43m,\u001b[49m\u001b[43m \u001b[49m\u001b[43mrich_text\u001b[49m\u001b[43m)\u001b[49m\n\u001b[0;32m    348\u001b[0m     reader\u001b[38;5;241m.\u001b[39mread()\n\u001b[0;32m    349\u001b[0m     \u001b[38;5;28;01mreturn\u001b[39;00m reader\u001b[38;5;241m.\u001b[39mwb\n",
      "File \u001b[1;32mc:\\Users\\user\\anaconda3\\envs\\rpa_env\\Lib\\site-packages\\openpyxl\\reader\\excel.py:123\u001b[0m, in \u001b[0;36mExcelReader.__init__\u001b[1;34m(self, fn, read_only, keep_vba, data_only, keep_links, rich_text)\u001b[0m\n\u001b[0;32m    121\u001b[0m \u001b[38;5;28;01mdef\u001b[39;00m\u001b[38;5;250m \u001b[39m\u001b[38;5;21m__init__\u001b[39m(\u001b[38;5;28mself\u001b[39m, fn, read_only\u001b[38;5;241m=\u001b[39m\u001b[38;5;28;01mFalse\u001b[39;00m, keep_vba\u001b[38;5;241m=\u001b[39mKEEP_VBA,\n\u001b[0;32m    122\u001b[0m              data_only\u001b[38;5;241m=\u001b[39m\u001b[38;5;28;01mFalse\u001b[39;00m, keep_links\u001b[38;5;241m=\u001b[39m\u001b[38;5;28;01mTrue\u001b[39;00m, rich_text\u001b[38;5;241m=\u001b[39m\u001b[38;5;28;01mFalse\u001b[39;00m):\n\u001b[1;32m--> 123\u001b[0m     \u001b[38;5;28mself\u001b[39m\u001b[38;5;241m.\u001b[39marchive \u001b[38;5;241m=\u001b[39m \u001b[43m_validate_archive\u001b[49m\u001b[43m(\u001b[49m\u001b[43mfn\u001b[49m\u001b[43m)\u001b[49m\n\u001b[0;32m    124\u001b[0m     \u001b[38;5;28mself\u001b[39m\u001b[38;5;241m.\u001b[39mvalid_files \u001b[38;5;241m=\u001b[39m \u001b[38;5;28mself\u001b[39m\u001b[38;5;241m.\u001b[39marchive\u001b[38;5;241m.\u001b[39mnamelist()\n\u001b[0;32m    125\u001b[0m     \u001b[38;5;28mself\u001b[39m\u001b[38;5;241m.\u001b[39mread_only \u001b[38;5;241m=\u001b[39m read_only\n",
      "File \u001b[1;32mc:\\Users\\user\\anaconda3\\envs\\rpa_env\\Lib\\site-packages\\openpyxl\\reader\\excel.py:95\u001b[0m, in \u001b[0;36m_validate_archive\u001b[1;34m(filename)\u001b[0m\n\u001b[0;32m     88\u001b[0m             msg \u001b[38;5;241m=\u001b[39m (\u001b[38;5;124m'\u001b[39m\u001b[38;5;124mopenpyxl does not support \u001b[39m\u001b[38;5;132;01m%s\u001b[39;00m\u001b[38;5;124m file format, \u001b[39m\u001b[38;5;124m'\u001b[39m\n\u001b[0;32m     89\u001b[0m                    \u001b[38;5;124m'\u001b[39m\u001b[38;5;124mplease check you can open \u001b[39m\u001b[38;5;124m'\u001b[39m\n\u001b[0;32m     90\u001b[0m                    \u001b[38;5;124m'\u001b[39m\u001b[38;5;124mit with Excel first. \u001b[39m\u001b[38;5;124m'\u001b[39m\n\u001b[0;32m     91\u001b[0m                    \u001b[38;5;124m'\u001b[39m\u001b[38;5;124mSupported formats are: \u001b[39m\u001b[38;5;132;01m%s\u001b[39;00m\u001b[38;5;124m'\u001b[39m) \u001b[38;5;241m%\u001b[39m (file_format,\n\u001b[0;32m     92\u001b[0m                                                    \u001b[38;5;124m'\u001b[39m\u001b[38;5;124m,\u001b[39m\u001b[38;5;124m'\u001b[39m\u001b[38;5;241m.\u001b[39mjoin(SUPPORTED_FORMATS))\n\u001b[0;32m     93\u001b[0m         \u001b[38;5;28;01mraise\u001b[39;00m InvalidFileException(msg)\n\u001b[1;32m---> 95\u001b[0m archive \u001b[38;5;241m=\u001b[39m \u001b[43mZipFile\u001b[49m\u001b[43m(\u001b[49m\u001b[43mfilename\u001b[49m\u001b[43m,\u001b[49m\u001b[43m \u001b[49m\u001b[38;5;124;43m'\u001b[39;49m\u001b[38;5;124;43mr\u001b[39;49m\u001b[38;5;124;43m'\u001b[39;49m\u001b[43m)\u001b[49m\n\u001b[0;32m     96\u001b[0m \u001b[38;5;28;01mreturn\u001b[39;00m archive\n",
      "File \u001b[1;32mc:\\Users\\user\\anaconda3\\envs\\rpa_env\\Lib\\zipfile\\__init__.py:1367\u001b[0m, in \u001b[0;36mZipFile.__init__\u001b[1;34m(self, file, mode, compression, allowZip64, compresslevel, strict_timestamps, metadata_encoding)\u001b[0m\n\u001b[0;32m   1365\u001b[0m \u001b[38;5;28;01mwhile\u001b[39;00m \u001b[38;5;28;01mTrue\u001b[39;00m:\n\u001b[0;32m   1366\u001b[0m     \u001b[38;5;28;01mtry\u001b[39;00m:\n\u001b[1;32m-> 1367\u001b[0m         \u001b[38;5;28mself\u001b[39m\u001b[38;5;241m.\u001b[39mfp \u001b[38;5;241m=\u001b[39m \u001b[43mio\u001b[49m\u001b[38;5;241;43m.\u001b[39;49m\u001b[43mopen\u001b[49m\u001b[43m(\u001b[49m\u001b[43mfile\u001b[49m\u001b[43m,\u001b[49m\u001b[43m \u001b[49m\u001b[43mfilemode\u001b[49m\u001b[43m)\u001b[49m\n\u001b[0;32m   1368\u001b[0m     \u001b[38;5;28;01mexcept\u001b[39;00m \u001b[38;5;167;01mOSError\u001b[39;00m:\n\u001b[0;32m   1369\u001b[0m         \u001b[38;5;28;01mif\u001b[39;00m filemode \u001b[38;5;129;01min\u001b[39;00m modeDict:\n",
      "\u001b[1;31mFileNotFoundError\u001b[0m: [Errno 2] No such file or directory: 'C:\\\\Users\\\\user\\\\Desktop\\\\Output ymm2\\\\new.xlsx'"
     ]
    }
   ],
   "source": [
    "def header_final_schema(ws):\n",
    "    # wb = load_workbook(file_path)\n",
    "    # ws = wb.active \n",
    "    column_widths = [15, 20, 15, 15, 15, 15, 15, 15, 15, 15, 15, 15, 15, 15]\n",
    "    for i, width in enumerate(column_widths, 1):\n",
    "        ws.column_dimensions[get_column_letter(i)].width = width\n",
    "    \n",
    "    thin_border = Border(\n",
    "        left=Side(style='medium'), \n",
    "        right=Side(style='medium'), \n",
    "        top=Side(style='medium'), \n",
    "        bottom=Side(style='medium')\n",
    "    )\n",
    "    \n",
    "    # Header row 1 - Yazaki logo area\n",
    "    img = Image('../yazaki_logo.png')\n",
    "    cell_logo = ws.merge_cells('A1:J1')\n",
    "    ws.add_image(img, cell_logo)\n",
    "    # ws['A1'] = 'YAZAKI'\n",
    "    # ws['A1'].font = Font(name='Arial', size=14, bold=True)\n",
    "    # ws['A1'].alignment = Alignment(horizontal='left', vertical='center')\n",
    "    \n",
    "    blue_fill = PatternFill(start_color='0070C0', end_color='0070C0', fill_type='solid')\n",
    "    blue_font = Font(name='Arial', size=10, color=Color(rgb='FFFFFF'))\n",
    "    \n",
    "    ws.merge_cells('K1:O1')\n",
    "    first_cell = ws.cell(row=1, column=11)  \n",
    "    first_cell.value = 'PU24/PU25 LHD'\n",
    "    first_cell.font = blue_font\n",
    "    first_cell.fill = blue_fill\n",
    "    first_cell.alignment = Alignment(horizontal='center', vertical='center')\n",
    "    \n",
    "    header_fill = PatternFill(start_color='D9D9D9', end_color='D9D9D9', fill_type='solid')\n",
    "    header_font = Font(name='Arial', size=10)\n",
    "    \n",
    "    cell_configs = [\n",
    "        ('C2', 'Nº du Produit / Niveau', header_font, header_fill, thin_border),\n",
    "        ('C3', 'KAR G60', Font(name='Arial', size=10), None, thin_border),\n",
    "        ('E2', 'Local du travail', header_font, header_fill, thin_border),\n",
    "        ('E3', 'WP414-SA513', Font(name='Arial', size=10), None, thin_border),\n",
    "        ('F2', 'N° de ligne', header_font, header_fill, thin_border),\n",
    "        ('F3', '1', Font(name='Arial', size=10), None, thin_border),\n",
    "        ('G2', 'N° de ligne', header_font, header_fill, thin_border),\n",
    "        ('G3', '1', Font(name='Arial', size=10), None, thin_border),\n",
    "        ('H2', 'N° de ligne', header_font, header_fill, thin_border),\n",
    "        ('H3', '1', Font(name='Arial', size=10), None, thin_border),\n",
    "        ('I2:J2', 'Processus', header_font, header_fill, thin_border),\n",
    "        ('I3:J3', 'C2', Font(name='Arial', size=10), None, thin_border),\n",
    "        ('M2', 'Nº de Registre', header_font, header_fill, thin_border),\n",
    "        ('M3', 'EA-EN-MMO-xx-T-6047', Font(name='Arial', size=10), None, thin_border)\n",
    "    ]\n",
    "    \n",
    "    for cell_range, value, font, fill, border in cell_configs:\n",
    "        if ':' in cell_range:\n",
    "            ws.merge_cells(cell_range)\n",
    "            # Get the first cell of the merged range\n",
    "            first_cell = ws[cell_range.split(':')[0]]\n",
    "            first_cell.value = value\n",
    "            first_cell.font = font\n",
    "            \n",
    "            if fill:\n",
    "                first_cell.fill = fill\n",
    "            \n",
    "            first_cell.border = border\n",
    "            first_cell.alignment = Alignment(horizontal='center', vertical='center')\n",
    "        else:\n",
    "            cell = ws[cell_range]\n",
    "            cell.value = value\n",
    "            cell.font = font\n",
    "            \n",
    "            if fill:\n",
    "                cell.fill = fill\n",
    "            \n",
    "            cell.border = border\n",
    "            cell.alignment = Alignment(horizontal='center', vertical='center')\n",
    "    \n",
    "    # Add borders to entire merged ranges\n",
    "    border_ranges = ['C2:D2', 'I2:J2', 'M2:O2', 'C3:D3', 'I3:J3', 'M3:O3']\n",
    "    for cell_range in border_ranges:\n",
    "        for row in ws[cell_range]:\n",
    "            for cell in row:\n",
    "                cell.border = thin_border\n",
    "    \n",
    "    # print(\"Yazaki header template created successfully!\")\n",
    "    return ws\n",
    "\n",
    "path = r\"C:\\Users\\user\\Desktop\\Output ymm2\\new.xlsx\"\n",
    "wb = load_workbook(path)\n",
    "# ws = wb.active \n",
    "\n",
    "for ws in wb.worksheets:\n",
    "    ws = header_final_schema(ws)\n",
    "    \n",
    "# header_final_schema(path)\n",
    "wb.save(path)"
   ]
  },
  {
   "cell_type": "markdown",
   "metadata": {},
   "source": [
    "#### Final Schema"
   ]
  },
  {
   "cell_type": "code",
   "execution_count": 16,
   "metadata": {},
   "outputs": [
    {
     "name": "stdout",
     "output_type": "stream",
     "text": [
      "Schema without color created successfully!\n"
     ]
    }
   ],
   "source": [
    "import xlwings as xw\n",
    "import pandas as pd\n",
    "import numpy as np\n",
    "\n",
    "# all_sheets = ['SA36-A', 'SA47', 'SA513'] \n",
    "\n",
    "def schema_final_without_color(path_output_excel)  :\n",
    "    with pd.ExcelWriter(path_output_excel, engine='xlsxwriter') as writer:      \n",
    "        for sheet in all_sheets:\n",
    "            if pd.isna(sheet):\n",
    "                continue\n",
    "            \n",
    "            sps_data = df_input[df_input['SPS'] == sheet]\n",
    "            \n",
    "            if sps_data.empty:\n",
    "                continue\n",
    "            \n",
    "            pm = sps_data['Production Module MA15'].fillna('').astype(str)\n",
    "            step = sps_data['Step'].fillna('').infer_objects(copy=False).astype(str)\n",
    "            \n",
    "            arrays = [np.array(pm), np.array(step)]\n",
    "            index = pd.MultiIndex.from_arrays(arrays, names=('Production Module MA15', 'Sequence'))\n",
    "            \n",
    "            # Création du DataFrame avec la colonne renommée\n",
    "            df = pd.DataFrame({'Materiel': sps_data['Component Name'].values,\n",
    "                            'SAP NO MA15': sps_data['SAP NO MA15'].values,\n",
    "                            'Note': sps_data['Note'].values,\n",
    "                            'CS' : sps_data['CS'].values,\n",
    "                            'color' : sps_data['Colour'].values,\n",
    "                            '' : '',\n",
    "                            'CON A' : sps_data['From Connector'].values,\n",
    "                            'CAV A' : sps_data['From Cavity'].values,\n",
    "                            'INSERTION A' : '',\n",
    "                            'CON B' : sps_data['To Connector'].values,\n",
    "                            'CAV B' : sps_data['To Cavity'].values,\n",
    "                            'INSERTION B' : '',\n",
    "                            },\n",
    "                            index=index)\n",
    "            df.to_excel(writer, sheet_name=sheet, startrow=4,startcol=0,index=True)\n",
    "    print('Schema without color created successfully!')\n",
    "\n",
    "schema_final_without_color(path_output_excel)"
   ]
  },
  {
   "cell_type": "code",
   "execution_count": 17,
   "metadata": {},
   "outputs": [],
   "source": [
    "def add_unique_ids_to_schema(wb,sheet_name):\n",
    "    \n",
    "    ws = wb[sheet_name]\n",
    "        \n",
    "    header_row = 5\n",
    "        \n",
    "    ws.insert_cols(1)\n",
    "    id_cell = ws.cell(row=header_row, column=1)\n",
    "    id_cell.value = \"Séquence PM\"\n",
    "    id_cell.font = Font(bold=True)\n",
    "    id_cell.alignment = Alignment(horizontal='center', vertical='center')\n",
    "        \n",
    "    id_counter = 1\n",
    "    for row in range(header_row + 1, ws.max_row + 1):\n",
    "        has_content = any(ws.cell(row=row, column=col).value for col in range(2, ws.max_column + 1))\n",
    "        if has_content:\n",
    "            id_cell = ws.cell(row=row, column=1)\n",
    "            id_cell.value = id_counter\n",
    "            id_cell.alignment = Alignment(horizontal='center', vertical='center')\n",
    "            id_counter += 1\n",
    "    \n",
    "\n",
    "    return ws\n"
   ]
  },
  {
   "cell_type": "markdown",
   "metadata": {},
   "source": [
    "#### Final schema with color"
   ]
  },
  {
   "cell_type": "code",
   "execution_count": 12,
   "metadata": {},
   "outputs": [
    {
     "name": "stdout",
     "output_type": "stream",
     "text": [
      "sa276  sa279\n"
     ]
    }
   ],
   "source": [
    "# Replace '/' with a space in the sheet name\n",
    "sheet_name = 'sa276//sa279'\n",
    "sheet_name = sheet_name.replace('/', ' ')\n",
    "print(sheet_name)  # Output: 'sa276 sa279'"
   ]
  },
  {
   "cell_type": "code",
   "execution_count": 18,
   "metadata": {},
   "outputs": [
    {
     "name": "stdout",
     "output_type": "stream",
     "text": [
      "Color formatting completed successfully.\n"
     ]
    }
   ],
   "source": [
    "def schema_final_with_color(wb_path):\n",
    "    wb = load_workbook(wb_path)\n",
    "\n",
    "    for sheet_name in wb.sheetnames:\n",
    "        \n",
    "        sheet = add_unique_ids_to_schema(wb,sheet_name)\n",
    "        \n",
    "        color_col = None\n",
    "        header_row = 5\n",
    "        \n",
    "        for col in range(1, sheet.max_column + 1):\n",
    "            if sheet.cell(row=header_row, column=col).value == \"color\":\n",
    "                color_col = col\n",
    "                break\n",
    "        \n",
    "        if color_col is None:\n",
    "            print(f\"No color column found in sheet: {sheet_name}\")\n",
    "            continue\n",
    "        \n",
    "        # Add new X column header after last column\n",
    "        # x_col = sheet.max_column + 1\n",
    "        # sheet.cell(row=header_row, column=x_col).value = \"X\"\n",
    "        \n",
    "        for row in range(header_row + 1, sheet.max_row + 1):\n",
    "            color_symbol = sheet.cell(row=row, column=color_col).value\n",
    "            if color_symbol:\n",
    "                cell = sheet.cell(row=row, column=color_col + 1)\n",
    "                try:\n",
    "                    apply_color(color_symbol, cell)\n",
    "                except KeyError:\n",
    "                    print(f\"Unknown color code: {color_symbol} in sheet {sheet_name}, row {row}\")\n",
    "                    cell.value = \"Unknown color code\" #PatternFill(start_color=\"C0C0C0\", end_color=\"C0C0C0\", fill_type=\"solid\")\n",
    "    print(\"Color formatting completed successfully.\")\n",
    "    wb.save(path_output_excel)\n",
    "# wb = schema_final_with_color(path_output_excel)\n",
    "schema_final_with_color(path_output_excel)"
   ]
  },
  {
   "cell_type": "markdown",
   "metadata": {},
   "source": [
    "#### Add last table"
   ]
  },
  {
   "cell_type": "code",
   "execution_count": 19,
   "metadata": {},
   "outputs": [],
   "source": [
    "def add_last_table(file_path):\n",
    "    wb = load_workbook(file_path)\n",
    "    # ws = wb.active \n",
    "    for ws in wb.worksheets:\n",
    "        ws = header_final_schema(ws)\n",
    "        row_start = ws.max_row + 2  \n",
    "\n",
    "        table_data = [\n",
    "            [\"\", \"PM Basique\", \"\", \"Niveau\", \"N° de Phase\", \"Date\", \"Préparé par\", \"Timbre\"],\n",
    "            [\"Note:\", \"Les cases colorées sont des PM optionnelles\", \"\", \"\", \"\", \"\", \"\", \"\"],\n",
    "            [\"\", \"🌀 : \", \"A Insérer\", \"\", \"\", \"\", \"\", \"\"],\n",
    "            [\"\", \"Ø : \", \"A Ne pas insérer\", \"\", \"\", \"\", \"\", \"\"],\n",
    "            [\"\", \"⊖ : \", \"Déjà inséré\", \"\", \"\", \"\", \"\", \"\"]\n",
    "        ]\n",
    "\n",
    "        # Définir les bordures\n",
    "        border = Border(\n",
    "            top=Side(style='thin'),\n",
    "            bottom=Side(style='thin'),\n",
    "            left=Side(style='thin'),\n",
    "            right=Side(style='thin')\n",
    "        )\n",
    "\n",
    "        for row_index, row_data in enumerate(table_data, start=row_start):\n",
    "            for col_index, cell_value in enumerate(row_data, start=1):\n",
    "                ws.cell(row=row_index, column=col_index, value=cell_value)\n",
    "                ws.cell(row=row_index, column=col_index).border = border\n",
    "                ws.cell(row=row_index, column=col_index).font = Font(size=12, bold=True)\n",
    "\n",
    "\n",
    "\n",
    "            \n",
    "    # # Appliquer les bordures        \n",
    "    # for row in ws.iter_rows(min_row=row_start, max_row=row_start + len(table_data) - 1, min_col=1, max_col=len(table_data[0])):\n",
    "    #     for cell in row:\n",
    "    #         cell.border = border\n",
    "            \n",
    "    # print(\"Tableau ajouté avec succès !\")\n",
    "    wb.save(path_output_excel)\n",
    "    wb.close()\n",
    "\n",
    "add_last_table(path_output_excel)\n",
    "\n"
   ]
  },
  {
   "cell_type": "code",
   "execution_count": 37,
   "metadata": {},
   "outputs": [
    {
     "name": "stdout",
     "output_type": "stream",
     "text": [
      "<class 'function'>\n"
     ]
    }
   ],
   "source": [
    "print(type(add_last_table))"
   ]
  },
  {
   "cell_type": "markdown",
   "metadata": {},
   "source": []
  },
  {
   "cell_type": "code",
   "execution_count": 15,
   "metadata": {},
   "outputs": [],
   "source": [
    "# import xlwings as xw\n",
    "# import pandas as pd\n",
    "# import numpy as np\n",
    "\n",
    "\n",
    "    \n",
    "# with pd.ExcelWriter('multi_feuilles.xlsx', engine='xlsxwriter') as writer:      \n",
    "\n",
    "#   for sheet in all_sheets:\n",
    "#       if pd.isna(sheet):\n",
    "#           continue\n",
    "#       sheet_name = wb.sheets.add(name=sheet)\n",
    "      \n",
    "#       sps_data = df_input[df_input['SPS'] == sheet]\n",
    "      \n",
    "#       arrays = [np.array(sps_data['Production Module MA15']),\n",
    "#                 np.array(sps_data['Step']),\n",
    "#               #   np.array(sps_data['Component Name']),\n",
    "#                 np.array(sps_data['SAP NO MA15']),\n",
    "#                 np.array(sps_data['Note']),\n",
    "#                 np.array(sps_data['CS'])          \n",
    "#                         ]\n",
    "#       index = pd.MultiIndex.from_arrays(arrays, names=('Production Module MA15', 'Step', 'SAP NO MA15', 'Note', 'CS'))\n",
    "      \n",
    "#       df = pd.DataFrame({'Component Name': sps_data['Component Name'].values},\n",
    "#                       index=index)\n",
    "      \n",
    "#       # sheet_name.range('A1').options(index=True).value = df\n",
    "#       df.to_excel(writer, sheet_name=sheet, index=True)\n",
    "\n",
    "# wb.sheets[0].delete()"
   ]
  },
  {
   "cell_type": "code",
   "execution_count": 16,
   "metadata": {},
   "outputs": [],
   "source": [
    "# import xlwings as xw\n",
    "# import pandas as pd\n",
    "# import numpy as np\n",
    "\n",
    "# wb = xw.Book()\n",
    "# sheet = wb.sheets[0]\n",
    "    \n",
    "# sps_data = df_input[df_input['SPS'] == \"SA36-A\"]\n",
    "    \n",
    "# arrays = [np.array(sps_data['Production Module MA15']),\n",
    "#               np.array(sps_data['Step'])         \n",
    "#                        ]\n",
    "# index = pd.MultiIndex.from_arrays(arrays, names=('Production Module MA15', 'Step'))\n",
    "    \n",
    "# df = pd.DataFrame({'Component Name': sps_data['Component Name'].values},\n",
    "#                      index=index)\n",
    "    \n",
    "# sheet.range('A1').value = df\n",
    "\n"
   ]
  },
  {
   "cell_type": "code",
   "execution_count": null,
   "metadata": {},
   "outputs": [],
   "source": []
  },
  {
   "cell_type": "code",
   "execution_count": null,
   "metadata": {},
   "outputs": [],
   "source": []
  },
  {
   "cell_type": "code",
   "execution_count": null,
   "metadata": {},
   "outputs": [],
   "source": []
  },
  {
   "cell_type": "code",
   "execution_count": 17,
   "metadata": {},
   "outputs": [],
   "source": [
    "# import openpyxl\n",
    "# from openpyxl.styles import Border, Side\n",
    "\n",
    "# # Charger le fichier Excel\n",
    "# workbook = openpyxl.load_workbook('schema.xlsx')\n",
    "# sheet = workbook.active  # Sélectionner la première feuille (ou spécifiez le nom de la feuille)\n",
    "\n",
    "# # Trouver la dernière ligne\n",
    "# last_row = sheet.max_row +2\n",
    "\n",
    "# # Les données à insérer\n",
    "# tableau = [\n",
    "#     [\"PM Basique\", \"Note\", \"Les cases colorées sont des PM optionnelles\", \"\", \"\", \"\", \"\", \"\", \"\"],\n",
    "#     [\"\", \"🌀 :\", \"A Insérer\", \"\", \"\", \"\", \"\", \"\", \"\"],\n",
    "#     [\"\", \"Ø :\", \"A Ne pas insérer\", \"\", \"\", \"\", \"\", \"\", \"\"],\n",
    "#     [\"\", \"O :\", \"Déjà inséré\", \"\", \"\", \"\", \"\", \"\", \"\"]\n",
    "# ]\n",
    "\n",
    "# # Insérer le tableau à la ligne suivante\n",
    "# for i, row in enumerate(tableau, start=last_row + 2):\n",
    "#     for j, value in enumerate(row):\n",
    "#         sheet.cell(row=i, column=j+1, value=value)\n",
    "\n",
    "# # Définir la taille des colonnes\n",
    "# column_widths = [15, 35, 50, 10, 10, 10, 15, 15, 15]\n",
    "# for col_num, width in enumerate(column_widths, start=1):\n",
    "#     sheet.column_dimensions[openpyxl.utils.get_column_letter(col_num)].width = width\n",
    "\n",
    "# # Définir les bordures\n",
    "# border = Border(\n",
    "#     top=Side(style='thin'),\n",
    "#     bottom=Side(style='thin'),\n",
    "#     left=Side(style='thin'),\n",
    "#     right=Side(style='thin')\n",
    "# )\n",
    "\n",
    "# # Appliquer les bordures à toutes les cellules\n",
    "# for row in sheet.iter_rows(min_row=1, max_row=sheet.max_row, min_col=1, max_col=sheet.max_column):\n",
    "#     for cell in row:\n",
    "#         cell.border = border\n",
    "\n",
    "# # Sauvegarder le fichier\n",
    "# workbook.save('votre_fichier_modifié.xlsx')\n"
   ]
  }
 ],
 "metadata": {
  "kernelspec": {
   "display_name": "rpa_env",
   "language": "python",
   "name": "python3"
  },
  "language_info": {
   "codemirror_mode": {
    "name": "ipython",
    "version": 3
   },
   "file_extension": ".py",
   "mimetype": "text/x-python",
   "name": "python",
   "nbconvert_exporter": "python",
   "pygments_lexer": "ipython3",
   "version": "3.13.2"
  }
 },
 "nbformat": 4,
 "nbformat_minor": 2
}
